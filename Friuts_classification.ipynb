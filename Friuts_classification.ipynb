{
 "cells": [
  {
   "cell_type": "code",
   "execution_count": 1,
   "id": "17c224e2",
   "metadata": {},
   "outputs": [],
   "source": [
    "import torch\n",
    "import random\n",
    "import numpy as np\n",
    "import os\n",
    "from PIL import Image\n",
    "\n",
    "random.seed(0)\n",
    "np.random.seed(0)\n",
    "torch.manual_seed(0)\n",
    "torch.cuda.manual_seed(0)\n",
    "torch.backends.cudnn.deterministic = True"
   ]
  },
  {
   "cell_type": "code",
   "execution_count": 2,
   "id": "c13b2768",
   "metadata": {},
   "outputs": [],
   "source": [
    "'''\n",
    "Есть 10 классов объектов\n",
    "Есть ~по 500 изображений каждого класса объектов\n",
    "Изображения трехканальные(RGB) 100*100 пикселей с вырезанным фоном\n",
    "Тестовая выборка - по 150-200 изображений тех же классов такого же формата\n",
    "'''\n",
    "\n",
    "#загрузка данных\n",
    "\n",
    "labels = {'AppleGolden' : 0, 'AppleRed' : 1, 'Avocado' : 2, 'Banana' : 3, 'Blueberry' : 4,\n",
    "          'Cocos' : 5, 'Lemon' : 6, 'Orange' : 7, 'Tomato' : 8, 'Watermelon' : 9}\n",
    "\n",
    "\n",
    "def load_data(train_test_folder):\n",
    "    X = []\n",
    "    Y = []\n",
    "    for folder in os.listdir(train_test_folder):\n",
    "        for file in os.listdir(train_test_folder + '/' + folder):\n",
    "            im = np.asarray(Image.open(train_test_folder + '/' + folder + '/' + file))\n",
    "            X.append(im)\n",
    "            Y.append(labels[folder])\n",
    "    return np.asarray(X),np.asarray(Y)\n",
    "\n",
    "\n",
    "X_train, Y_train = load_data('Train')\n",
    "X_test, Y_test = load_data('Test')"
   ]
  },
  {
   "cell_type": "code",
   "execution_count": 3,
   "id": "92de8982",
   "metadata": {},
   "outputs": [
    {
     "data": {
      "text/plain": [
       "(torch.Size([5025, 3, 100, 100]),\n",
       " torch.Size([5025]),\n",
       " torch.Size([1680, 3, 100, 100]),\n",
       " torch.Size([1680]))"
      ]
     },
     "execution_count": 3,
     "metadata": {},
     "output_type": "execute_result"
    }
   ],
   "source": [
    "\n",
    "X_train = torch.Tensor(X_train)\n",
    "Y_train = torch.Tensor(Y_train)\n",
    "Y_train = Y_train.type(torch.LongTensor)\n",
    "X_test = torch.Tensor(X_test)\n",
    "Y_test = torch.Tensor(Y_test)\n",
    "Y_test = Y_test.type(torch.LongTensor)\n",
    "\n",
    "#ставим каналы 2-ой размерностью для модели\n",
    "X_train = X_train.permute(0,3,1,2)\n",
    "X_test = X_test.permute(0,3,1,2)\n",
    "\n",
    "X_train.shape, Y_train.shape, X_test.shape, Y_test.shape"
   ]
  },
  {
   "cell_type": "code",
   "execution_count": 4,
   "id": "1e88f8e4",
   "metadata": {},
   "outputs": [],
   "source": [
    "class Classifier(torch.nn.Module):\n",
    "    def __init__(self):\n",
    "        super(Classifier, self).__init__()\n",
    "        \n",
    "        '''\n",
    "        Количество слоев и параметры подбирались эмпирически,\n",
    "        чтобы получить высокую точность и высокую производительность\n",
    "        '''\n",
    "        \n",
    "        #слои свертки + ReLUn активация + Max pooling\n",
    "        self.conv1 = torch.nn.Conv2d(in_channels=3, out_channels=4, kernel_size=5, padding=2)\n",
    "        self.act1 = torch.nn.ReLU()\n",
    "        self.pool1 = torch.nn.MaxPool2d(kernel_size=2, stride=2)\n",
    "        \n",
    "        self.conv2 = torch.nn.Conv2d(in_channels=4,out_channels=8, kernel_size=5, padding=2)\n",
    "        self.act2 = torch.nn.ReLU()\n",
    "        self.pool2 = torch.nn.MaxPool2d(kernel_size=2, stride=2)\n",
    "        \n",
    "        self.conv3 = torch.nn.Conv2d(in_channels=8,out_channels=16, kernel_size=5, padding=2)\n",
    "        self.act3 = torch.nn.ReLU()\n",
    "        self.pool3 = torch.nn.MaxPool2d(kernel_size=2, stride=2)\n",
    "        \n",
    "        # полносвязыне слои\n",
    "        self.fc1 = torch.nn.Linear(12*12*16, 512)\n",
    "        self.act5 = torch.nn.ReLU()\n",
    "        \n",
    "        self.fc2 = torch.nn.Linear(512,256)\n",
    "        self.act6 = torch.nn.ReLU()\n",
    "        \n",
    "        self.fc3 = torch.nn.Linear(256,10)\n",
    "        \n",
    "    def forward(self, x):\n",
    "        x = self.conv1(x)\n",
    "        x = self.act1(x)\n",
    "        x = self.pool1(x)\n",
    "        \n",
    "        x = self.conv2(x)\n",
    "        x = self.act2(x)\n",
    "        x = self.pool2(x)\n",
    "        \n",
    "        x = self.conv3(x)\n",
    "        x = self.act3(x)\n",
    "        x = self.pool3(x)\n",
    "\n",
    "        # 'вытягивание' тензоа после слоев свертки в матрицу. Строки - объекты. столбцы - полученные прзнаки\n",
    "        x = x.reshape(x.size(0), x.size(1) * x.size(2) * x.size(3))\n",
    "        \n",
    "        #полносвязные слои\n",
    "        x = self.fc1(x)\n",
    "        x = self.act5(x)\n",
    "        x = self.fc2(x)\n",
    "        x = self.act6(x)\n",
    "        x = self.fc3(x)\n",
    "        \n",
    "        return x\n",
    "    \n",
    "classifier = Classifier()"
   ]
  },
  {
   "cell_type": "code",
   "execution_count": 5,
   "id": "8176f39e",
   "metadata": {},
   "outputs": [],
   "source": [
    "#перенос модели на видеокарту, если есть возможность\n",
    "device = torch.device('cuda:0' if torch.cuda.is_available() else 'cpu')\n",
    "classifier = classifier.to(device)"
   ]
  },
  {
   "cell_type": "code",
   "execution_count": 6,
   "id": "417eeba8",
   "metadata": {},
   "outputs": [],
   "source": [
    "#функция потерь для многоклассовой классификации - кросс-энтропия\n",
    "loss = torch.nn.CrossEntropyLoss()\n",
    "\n",
    "#оптимизатор выбран эмпирически \n",
    "optimizer = torch.optim.Adam(classifier.parameters(), lr=1.0e-3)"
   ]
  },
  {
   "cell_type": "code",
   "execution_count": 7,
   "id": "4ed0594b",
   "metadata": {},
   "outputs": [
    {
     "name": "stdout",
     "output_type": "stream",
     "text": [
      "accuracy: tensor(0.9405)\n",
      "accuracy: tensor(0.9905)\n",
      "accuracy: tensor(0.9899)\n",
      "accuracy: tensor(0.9917)\n",
      "accuracy: tensor(0.9923)\n",
      "accuracy: tensor(0.9923)\n",
      "accuracy: tensor(0.9940)\n",
      "accuracy: tensor(0.9929)\n"
     ]
    },
    {
     "ename": "KeyboardInterrupt",
     "evalue": "",
     "output_type": "error",
     "traceback": [
      "\u001b[1;31m---------------------------------------------------------------------------\u001b[0m",
      "\u001b[1;31mKeyboardInterrupt\u001b[0m                         Traceback (most recent call last)",
      "\u001b[1;32mC:\\Users\\BKST17~1\\AppData\\Local\\Temp/ipykernel_13904/1498929360.py\u001b[0m in \u001b[0;36m<module>\u001b[1;34m\u001b[0m\n\u001b[0;32m     28\u001b[0m \u001b[1;33m\u001b[0m\u001b[0m\n\u001b[0;32m     29\u001b[0m         \u001b[1;31m#прямая прогонка батча через сеть\u001b[0m\u001b[1;33m\u001b[0m\u001b[1;33m\u001b[0m\u001b[0m\n\u001b[1;32m---> 30\u001b[1;33m         \u001b[0mpreds\u001b[0m \u001b[1;33m=\u001b[0m \u001b[0mclassifier\u001b[0m\u001b[1;33m.\u001b[0m\u001b[0mforward\u001b[0m\u001b[1;33m(\u001b[0m\u001b[0mX_batch\u001b[0m\u001b[1;33m)\u001b[0m\u001b[1;33m\u001b[0m\u001b[1;33m\u001b[0m\u001b[0m\n\u001b[0m\u001b[0;32m     31\u001b[0m \u001b[1;33m\u001b[0m\u001b[0m\n\u001b[0;32m     32\u001b[0m         \u001b[1;31m#вычисляем ошибку классификации\u001b[0m\u001b[1;33m\u001b[0m\u001b[1;33m\u001b[0m\u001b[0m\n",
      "\u001b[1;32mC:\\Users\\BKST17~1\\AppData\\Local\\Temp/ipykernel_13904/1184805845.py\u001b[0m in \u001b[0;36mforward\u001b[1;34m(self, x)\u001b[0m\n\u001b[0;32m     32\u001b[0m     \u001b[1;32mdef\u001b[0m \u001b[0mforward\u001b[0m\u001b[1;33m(\u001b[0m\u001b[0mself\u001b[0m\u001b[1;33m,\u001b[0m \u001b[0mx\u001b[0m\u001b[1;33m)\u001b[0m\u001b[1;33m:\u001b[0m\u001b[1;33m\u001b[0m\u001b[1;33m\u001b[0m\u001b[0m\n\u001b[0;32m     33\u001b[0m         \u001b[0mx\u001b[0m \u001b[1;33m=\u001b[0m \u001b[0mself\u001b[0m\u001b[1;33m.\u001b[0m\u001b[0mconv1\u001b[0m\u001b[1;33m(\u001b[0m\u001b[0mx\u001b[0m\u001b[1;33m)\u001b[0m\u001b[1;33m\u001b[0m\u001b[1;33m\u001b[0m\u001b[0m\n\u001b[1;32m---> 34\u001b[1;33m         \u001b[0mx\u001b[0m \u001b[1;33m=\u001b[0m \u001b[0mself\u001b[0m\u001b[1;33m.\u001b[0m\u001b[0mact1\u001b[0m\u001b[1;33m(\u001b[0m\u001b[0mx\u001b[0m\u001b[1;33m)\u001b[0m\u001b[1;33m\u001b[0m\u001b[1;33m\u001b[0m\u001b[0m\n\u001b[0m\u001b[0;32m     35\u001b[0m         \u001b[0mx\u001b[0m \u001b[1;33m=\u001b[0m \u001b[0mself\u001b[0m\u001b[1;33m.\u001b[0m\u001b[0mpool1\u001b[0m\u001b[1;33m(\u001b[0m\u001b[0mx\u001b[0m\u001b[1;33m)\u001b[0m\u001b[1;33m\u001b[0m\u001b[1;33m\u001b[0m\u001b[0m\n\u001b[0;32m     36\u001b[0m \u001b[1;33m\u001b[0m\u001b[0m\n",
      "\u001b[1;32mD:\\Python\\lib\\site-packages\\torch\\nn\\modules\\module.py\u001b[0m in \u001b[0;36m_call_impl\u001b[1;34m(self, *input, **kwargs)\u001b[0m\n\u001b[0;32m   1128\u001b[0m         if not (self._backward_hooks or self._forward_hooks or self._forward_pre_hooks or _global_backward_hooks\n\u001b[0;32m   1129\u001b[0m                 or _global_forward_hooks or _global_forward_pre_hooks):\n\u001b[1;32m-> 1130\u001b[1;33m             \u001b[1;32mreturn\u001b[0m \u001b[0mforward_call\u001b[0m\u001b[1;33m(\u001b[0m\u001b[1;33m*\u001b[0m\u001b[0minput\u001b[0m\u001b[1;33m,\u001b[0m \u001b[1;33m**\u001b[0m\u001b[0mkwargs\u001b[0m\u001b[1;33m)\u001b[0m\u001b[1;33m\u001b[0m\u001b[1;33m\u001b[0m\u001b[0m\n\u001b[0m\u001b[0;32m   1131\u001b[0m         \u001b[1;31m# Do not call functions when jit is used\u001b[0m\u001b[1;33m\u001b[0m\u001b[1;33m\u001b[0m\u001b[0m\n\u001b[0;32m   1132\u001b[0m         \u001b[0mfull_backward_hooks\u001b[0m\u001b[1;33m,\u001b[0m \u001b[0mnon_full_backward_hooks\u001b[0m \u001b[1;33m=\u001b[0m \u001b[1;33m[\u001b[0m\u001b[1;33m]\u001b[0m\u001b[1;33m,\u001b[0m \u001b[1;33m[\u001b[0m\u001b[1;33m]\u001b[0m\u001b[1;33m\u001b[0m\u001b[1;33m\u001b[0m\u001b[0m\n",
      "\u001b[1;32mD:\\Python\\lib\\site-packages\\torch\\nn\\modules\\activation.py\u001b[0m in \u001b[0;36mforward\u001b[1;34m(self, input)\u001b[0m\n\u001b[0;32m     96\u001b[0m \u001b[1;33m\u001b[0m\u001b[0m\n\u001b[0;32m     97\u001b[0m     \u001b[1;32mdef\u001b[0m \u001b[0mforward\u001b[0m\u001b[1;33m(\u001b[0m\u001b[0mself\u001b[0m\u001b[1;33m,\u001b[0m \u001b[0minput\u001b[0m\u001b[1;33m:\u001b[0m \u001b[0mTensor\u001b[0m\u001b[1;33m)\u001b[0m \u001b[1;33m->\u001b[0m \u001b[0mTensor\u001b[0m\u001b[1;33m:\u001b[0m\u001b[1;33m\u001b[0m\u001b[1;33m\u001b[0m\u001b[0m\n\u001b[1;32m---> 98\u001b[1;33m         \u001b[1;32mreturn\u001b[0m \u001b[0mF\u001b[0m\u001b[1;33m.\u001b[0m\u001b[0mrelu\u001b[0m\u001b[1;33m(\u001b[0m\u001b[0minput\u001b[0m\u001b[1;33m,\u001b[0m \u001b[0minplace\u001b[0m\u001b[1;33m=\u001b[0m\u001b[0mself\u001b[0m\u001b[1;33m.\u001b[0m\u001b[0minplace\u001b[0m\u001b[1;33m)\u001b[0m\u001b[1;33m\u001b[0m\u001b[1;33m\u001b[0m\u001b[0m\n\u001b[0m\u001b[0;32m     99\u001b[0m \u001b[1;33m\u001b[0m\u001b[0m\n\u001b[0;32m    100\u001b[0m     \u001b[1;32mdef\u001b[0m \u001b[0mextra_repr\u001b[0m\u001b[1;33m(\u001b[0m\u001b[0mself\u001b[0m\u001b[1;33m)\u001b[0m \u001b[1;33m->\u001b[0m \u001b[0mstr\u001b[0m\u001b[1;33m:\u001b[0m\u001b[1;33m\u001b[0m\u001b[1;33m\u001b[0m\u001b[0m\n",
      "\u001b[1;32mD:\\Python\\lib\\site-packages\\torch\\nn\\functional.py\u001b[0m in \u001b[0;36mrelu\u001b[1;34m(input, inplace)\u001b[0m\n\u001b[0;32m   1455\u001b[0m         \u001b[0mresult\u001b[0m \u001b[1;33m=\u001b[0m \u001b[0mtorch\u001b[0m\u001b[1;33m.\u001b[0m\u001b[0mrelu_\u001b[0m\u001b[1;33m(\u001b[0m\u001b[0minput\u001b[0m\u001b[1;33m)\u001b[0m\u001b[1;33m\u001b[0m\u001b[1;33m\u001b[0m\u001b[0m\n\u001b[0;32m   1456\u001b[0m     \u001b[1;32melse\u001b[0m\u001b[1;33m:\u001b[0m\u001b[1;33m\u001b[0m\u001b[1;33m\u001b[0m\u001b[0m\n\u001b[1;32m-> 1457\u001b[1;33m         \u001b[0mresult\u001b[0m \u001b[1;33m=\u001b[0m \u001b[0mtorch\u001b[0m\u001b[1;33m.\u001b[0m\u001b[0mrelu\u001b[0m\u001b[1;33m(\u001b[0m\u001b[0minput\u001b[0m\u001b[1;33m)\u001b[0m\u001b[1;33m\u001b[0m\u001b[1;33m\u001b[0m\u001b[0m\n\u001b[0m\u001b[0;32m   1458\u001b[0m     \u001b[1;32mreturn\u001b[0m \u001b[0mresult\u001b[0m\u001b[1;33m\u001b[0m\u001b[1;33m\u001b[0m\u001b[0m\n\u001b[0;32m   1459\u001b[0m \u001b[1;33m\u001b[0m\u001b[0m\n",
      "\u001b[1;31mKeyboardInterrupt\u001b[0m: "
     ]
    }
   ],
   "source": [
    "#задаем размер батча\n",
    "batch_size = 100\n",
    "\n",
    "test_accuracy_history = []\n",
    "test_loss_history = []\n",
    "\n",
    "#перенос на видеокарту для ускорения расчетов, если есть такая возможность\n",
    "X_train = X_train.to(device)\n",
    "Y_train = Y_train.to(device)\n",
    "X_test = X_test.to(device)\n",
    "Y_test = Y_test.to(device)\n",
    "\n",
    "# цикл обучения\n",
    "for epoch in range(100):\n",
    "    #перемешиваем обучающую выборку\n",
    "    order = np.random.permutation(len(X_train))\n",
    "    #цикл по батчам\n",
    "    for start_index in range(0, len(X_train), batch_size):\n",
    "        #обнуляем градиенты от предыдущего батча\n",
    "        optimizer.zero_grad()\n",
    "        \n",
    "        #формируем индексы для батчей\n",
    "        batch_indexes = order[start_index:start_index+batch_size]\n",
    "        \n",
    "        #формируем батчи\n",
    "        X_batch = X_train[batch_indexes].to(device)\n",
    "        Y_batch = Y_train[batch_indexes].to(device)\n",
    "        \n",
    "        #прямая прогонка батча через сеть\n",
    "        preds = classifier.forward(X_batch) \n",
    "        \n",
    "        #вычисляем ошибку классификации\n",
    "        loss_value = loss(preds, Y_batch)\n",
    "        #расчет градиентов для корректировки параметров\n",
    "        loss_value.backward()\n",
    "        \n",
    "        #корректировка параметров сети\n",
    "        optimizer.step()\n",
    "    \n",
    "    #тестируем на тестовых данных\n",
    "    test_preds = classifier.forward(X_test)\n",
    "    test_loss_history.append(loss(test_preds, Y_test).data.cpu())\n",
    "    \n",
    "    #вычисляем метрику точности классификации    \n",
    "    accuracy = (test_preds.argmax(dim=1) == Y_test).float().mean().data.cpu()\n",
    "    test_accuracy_history.append(accuracy)\n",
    "    \n",
    "    print('accuracy:', accuracy)"
   ]
  },
  {
   "cell_type": "code",
   "execution_count": null,
   "id": "cebf7991",
   "metadata": {},
   "outputs": [],
   "source": []
  }
 ],
 "metadata": {
  "kernelspec": {
   "display_name": "Python 3 (ipykernel)",
   "language": "python",
   "name": "python3"
  },
  "language_info": {
   "codemirror_mode": {
    "name": "ipython",
    "version": 3
   },
   "file_extension": ".py",
   "mimetype": "text/x-python",
   "name": "python",
   "nbconvert_exporter": "python",
   "pygments_lexer": "ipython3",
   "version": "3.10.0"
  }
 },
 "nbformat": 4,
 "nbformat_minor": 5
}
